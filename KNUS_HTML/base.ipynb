{
 "cells": [
  {
   "cell_type": "code",
   "execution_count": 1,
   "metadata": {
    "collapsed": true
   },
   "outputs": [],   "source": [
    "from dateutil.parser import parse\n",
    "import csv\n",
    "import pickle\n",
    "import json\n",
    "import time\n",
    "import random \n",
    "from urllib.request import urlopen\n",
    "from urllib.parse   import quote\n",
    "from datetime import datetime, timedelta\n",
    "import re  \n",
    "from bs4 import BeautifulSoup\n",
    "import pandas as pd\n",
    "import numpy as np  \n",
    "import os\n",
    "from selenium import webdriver \n",
    "from random import randint\n",
    "from urllib.request import Request\n",
    "import requests\n",
    "import random\n",
    "import sqlite3\n",
    "from IPython.display import display #이거 써봐라.. \n",
    "pd.options.display.max_columns = None\n",
    "pd.options.display.max_rows = 300"
   ]
  },
  {
   "cell_type": "code",
   "execution_count": null,
   "metadata": {
    "collapsed": true
   },
   "outputs": [],
   "source": []
  },
  {
   "cell_type": "code",
   "execution_count": null,
   "metadata": {
    "collapsed": true
   },
   "outputs": [],
   "source": []
  },
  {
   "cell_type": "code",
   "execution_count": null,
   "metadata": {
    "collapsed": true
   },
   "outputs": [],
   "source": []
  },
  {
   "cell_type": "code",
   "execution_count": null,
   "metadata": {
    "collapsed": true
   },
   "outputs": [],
   "source": []
  },
  {
   "cell_type": "code",
   "execution_count": 2,
   "metadata": {
    "collapsed": true
   },
   "outputs": [],
   "source": [
    "#시작"
   ]
  },
  {
   "cell_type": "code",
   "execution_count": 224,
   "metadata": {
    "collapsed": true
   },
   "outputs": [],
   "source": [
    "from xlrd import open_workbook  #정규학기 불러오기  엑셀 -> df\n",
    "workbookName = r\"D:\\해달\\knu_major.xlsx\" #엑셀파일 불러오기 \n",
    "sheet = open_workbook(workbookName).sheets()[0] #시트 불러오기 "
   ]
  },
  {
   "cell_type": "code",
   "execution_count": 225,
   "metadata": {},
   "outputs": [],
   "source": [
    "flag = 0 #엑셀 파일 시트에서 데이터프레임으로 만드는 부분 \n",
    "out_list = []\n",
    "개설대학 = ''\n",
    "\n",
    "for rowidx in range(sheet.nrows):\n",
    "    \n",
    "    empty_dict = {}\n",
    "    \n",
    "    row = sheet.row(rowidx)\n",
    "    key = row[3].value    #맨 왼쪽에서 4번째 줄을 구분자로 활용, 숫자가 들어가 있으면 해당 로우 값을 다 저장, 직전의 개설대학 값과 함께\n",
    "     \n",
    "    if row[5].value == '수  업  시  간  표':\n",
    "        flag = 1\n",
    "        continue\n",
    "        \n",
    "    if flag == 1:\n",
    "        개설대학 = row[1].value\n",
    "        flag = 0\n",
    "        continue\n",
    "        \n",
    "    try:\n",
    "        num = int(key[-1])\n",
    "    except:\n",
    "        continue\n",
    "        \n",
    "    empty_dict['학년'] = row[1].value\n",
    "    empty_dict['구분'] = row[2].value\n",
    "    empty_dict['교과번호-분반'] = row[3].value\n",
    "    empty_dict['교과목명'] = row[4].value\n",
    "    empty_dict['학점'] = row[6].value\n",
    "    empty_dict['강의'] = row[7].value\n",
    "    empty_dict['실습'] = row[8].value\n",
    "    empty_dict['담당교수'] = row[9].value\n",
    "    empty_dict['강의시간(요일,교시)'] = row[10].value\n",
    "    empty_dict['강의실'] = row[13].value\n",
    "    empty_dict['비고'] = row[14].value\n",
    "    empty_dict['개설대학'] = 개설대학\n",
    "    out_list.append(empty_dict) #추가되는 줄, 가장 최근의 개설대학 값을 바탕으로 "
   ]
  },
  {
   "cell_type": "code",
   "execution_count": 226,
   "metadata": {},
   "outputs": [],
   "source": [
    "\n",
    "def elim_bar(x): #텍스트에서 바 없애는 함수 \n",
    "    return x.replace('-','')\n",
    "\n",
    "ex_df = pd.DataFrame(out_list) #데이터 프레임으로 변형\n",
    "ex_df['교과번호-분반'] = ex_df['교과번호-분반'].map(elim_bar) #학기 \n",
    "column_list = ['교과번호-분반', '학점', '강의', '실습', '교과목명', '구분', '수강정원', '강의시간(요일,교시)', '강의실',\n",
    "       '개설대학', '개설\\n학과', '개설\\n전공', '담당교수', '팀티칭\\n여부', '스마트러닝\\n강좌 여부', '직급',\n",
    "       '교수소속\\n대학', '교수소속\\n학과', '강의\\n언어', '교과목명\\n(영문)','학년', '비고']\n",
    "ex_df = ex_df.loc[:,column_list]"
   ]
  },
  {
   "cell_type": "code",
   "execution_count": 227,
   "metadata": {
    "collapsed": true
   },
   "outputs": [],
   "source": []
  },
  {
   "cell_type": "code",
   "execution_count": 228,
   "metadata": {
    "collapsed": true
   },
   "outputs": [],
   "source": []
  },
  {
   "cell_type": "code",
   "execution_count": null,
   "metadata": {
    "collapsed": true
   },
   "outputs": [],
   "source": []
  },
  {
   "cell_type": "code",
   "execution_count": 79,
   "metadata": {
    "collapsed": true
   },
   "outputs": [],
   "source": [
    "#계절학기 불러오기 엑셀 -> df"
   ]
  },
  {
   "cell_type": "code",
   "execution_count": 229,
   "metadata": {},
   "outputs": [],
   "source": [
    "sw_df = pd.read_excel (r'D:\\해달\\2019겨울계절수업 개설강좌 수업시간표.xls', header = [2]) #for an earlier version of Excel, you may need to use the file extension of 'xls'"
   ]
  },
  {
   "cell_type": "code",
   "execution_count": 230,
   "metadata": {},
   "outputs": [],
   "source": [
    "sw_df.columns = ['교과번호-분반', '학점', '강의', '실습', '교과목명', '구분', '수강정원', '강의시간(요일,교시)', '강의실',\n",
    "       '개설대학', '개설\\n학과', '개설\\n전공', '담당교수', '팀티칭\\n여부', '스마트러닝\\n강좌 여부', '직급',\n",
    "       '교수소속\\n대학', '교수소속\\n학과', '강의\\n언어', '교과목명\\n(영문)', '비고'] #학년칼럼이 없어서추가. \n",
    "sw_df= sw_df.loc[:,column_list]\n",
    "sw_df['교과번호-분반'] = sw_df['교과번호-분반'].map(elim_bar)"
   ]
  },
  {
   "cell_type": "code",
   "execution_count": 231,
   "metadata": {
    "collapsed": true
   },
   "outputs": [],
   "source": []
  },
  {
   "cell_type": "code",
   "execution_count": null,
   "metadata": {
    "collapsed": true
   },
   "outputs": [],
   "source": []
  },
  {
   "cell_type": "code",
   "execution_count": null,
   "metadata": {
    "collapsed": true
   },
   "outputs": [],
   "source": []
  },
  {
   "cell_type": "code",
   "execution_count": 232,
   "metadata": {
    "collapsed": true
   },
   "outputs": [],
   "source": [
    "import urllib.request           # 웹크롤링 모듈\n",
    "import bs4                      # 웹크롤링 모듈\n",
    "import time"
   ]
  },
  {
   "cell_type": "code",
   "execution_count": 233,
   "metadata": {
    "collapsed": true
   },
   "outputs": [],
   "source": [
    "def Current_enrollment_num(code): # 실시간 수강신청 인원\n",
    "    code = code.upper()        #과목코드의 영문부분을 모두 대문자로 표기\n",
    "\n",
    "    ## URL에 들어갈 정보\n",
    "    # '학기(semester) ex.20192',\n",
    "    # '과목분반정보(subClass) ex. 001',\n",
    "    # '과목정보(maincode) ex. ENGR211,\n",
    "    # '모든코드(code) ex. ENGR211001,\n",
    "\n",
    "    ####################'학기(Year_semester)'#########################\n",
    "    ## 월 추출(정수)\n",
    "    Month_int = int(time.strftime(\"%m\", time.localtime(time.time())))\n",
    "\n",
    "    ## 년 추출(문자)\n",
    "    Year_int = str(time.strftime(\"%Y\", time.localtime(time.time())))\n",
    "\n",
    "    ##학기 추출\n",
    "    if Month_int <= 3:  # 1, 2, 3월이면\n",
    "        semester = \"1\"  # 1학기 수강신청\n",
    "    elif 4 <= Month_int <= 6:  # 4, 5, 6월이면\n",
    "        semester = \"S\"  # 여름학기 수강신청\n",
    "    elif 7 <= Month_int <= 9:  # 7, 8, 9월이면\n",
    "        semester = \"2\"  # 2학기 수강신청\n",
    "    elif 10 <= Month_int <= 12:  # 10, 11, 12월이면\n",
    "        semester = \"W\"  # 겨울학기 수강신청\n",
    "    Year_semester = Year_int + semester  # ex. Year_semester는 \"20192\"\n",
    "\n",
    "    subClass = code[7:]     # '과목분반정보(subClass) ex. 001'\n",
    "    maincode = code[:7]     # '과목분반정보(subClass) ex. ENGR211'\n",
    "\n",
    "    url =\"http://my.knu.ac.kr/stpo/stpo/cour/lectReqCntEnq/list.action?&lectReqCntEnq.search_open_yr_trm=\"+Year_semester+\"&lectReqCntEnq.search_sub_class_cde=\"+subClass+\"&lectReqCntEnq.search_subj_cde=\"+maincode+\"&searchValue=\"+code\n",
    "    html = urllib.request.urlopen(url)      # html 코드 받기\n",
    "    bsObj = bs4.BeautifulSoup(html, \"html.parser\")  #bs4에 html 코드 넣기\n",
    "\n",
    "    # 현 과목코드에 대한 정보가 없을시에 0값을 도출합니다\n",
    "    try:\n",
    "        current_num = int(bsObj.find(\"td\", {\"class\": \"lect_req_cnt\"}).text)     # 실시간 정원\n",
    "        limit_num = int(bsObj.find(\"td\", {\"class\": \"lect_quota\"}).text)         # 수용정원\n",
    "    except:\n",
    "        return [0, 0]\n",
    "\n",
    "    return [limit_num, current_num]     # [수용정원, 실시간 정원]"
   ]
  },
  {
   "cell_type": "code",
   "execution_count": null,
   "metadata": {
    "collapsed": true
   },
   "outputs": [],
   "source": [
    "def Get_same_lec(code,df):  #code 입력 과목과 같은 과목 다른 시간\n",
    "    return_df = df.loc[df.loc[:,'교과번호-분반'].str.contains(code[:7]),:]\n",
    "    return_df.loc[:,'수용정원'] = 'no'\n",
    "    return_df.loc[:,'실시간정원'] = 'no'\n",
    "    for index, row in return_df.iterrows():\n",
    "        return_list = Current_enrollment_num(row['교과번호-분반'])\n",
    "        print(return_list)\n",
    "        return_df.loc[index,'수용정원'] = return_list[0]\n",
    "        return_df.loc[index,'실시간정원'] = return_list[1]\n",
    "    #return_df['잔여정원'] = return_df['수용정원'].map(int) - return_df['실시간정원'].map(int)\n",
    "    return return_df\n",
    "\n",
    "\n",
    "def Get_same_time(code,df): #code 입력과목과 다른 과목 같은 시간\n",
    "    for index, value in df.loc[df['교과번호-분반'] == code,'강의시간(요일,교시)'].iteritems(): #더 좋은 방법이 있다면. 이렇게. \n",
    "        return_df = df.loc[df['강의시간(요일,교시)'] == value,:]\n",
    "    for index, row in return_df.iterrows():\n",
    "        return_list = Current_enrollment_num(row['교과번호-분반'])\n",
    "        print(return_list)\n",
    "        return_df.loc[index,'수용정원'] = return_list[0]\n",
    "        return_df.loc[index,'실시간정원'] = return_list[1]\n",
    "    return return_df"
   ]
  },
  {
   "cell_type": "code",
   "execution_count": null,
   "metadata": {
    "collapsed": true
   },
   "outputs": [],
   "source": [
    "#code = 'ENGR211001'\n",
    "#code = 'CLTR412001'\n",
    "code = 'CLTR211001'"
   ]
  },
  {
   "cell_type": "code",
   "execution_count": 294,
   "metadata": {
    "collapsed": true
   },
   "outputs": [
    {
     "name": "stderr",
     "output_type": "stream",
     "text": [
      "C:\\Users\\nnqkf\\Anaconda3\\lib\\site-packages\\pandas\\core\\indexing.py:337: SettingWithCopyWarning: \n",
      "A value is trying to be set on a copy of a slice from a DataFrame.\n",
      "Try using .loc[row_indexer,col_indexer] = value instead\n",
      "\n",
      "See the caveats in the documentation: http://pandas.pydata.org/pandas-docs/stable/indexing.html#indexing-view-versus-copy\n",
      "  self.obj[key] = _infer_fill_value(value)\n",
      "C:\\Users\\nnqkf\\Anaconda3\\lib\\site-packages\\pandas\\core\\indexing.py:517: SettingWithCopyWarning: \n",
      "A value is trying to be set on a copy of a slice from a DataFrame.\n",
      "Try using .loc[row_indexer,col_indexer] = value instead\n",
      "\n",
      "See the caveats in the documentation: http://pandas.pydata.org/pandas-docs/stable/indexing.html#indexing-view-versus-copy\n",
      "  self.obj[item] = s\n"
     ]
    },
    {
     "name": "stdout",
     "output_type": "stream",
     "text": [
      "[0, 0]\n",
      "[65, 57]\n",
      "[65, 53]\n",
      "[65, 55]\n",
      "[0, 0]\n",
      "[0, 0]\n",
      "[0, 0]\n",
      "[0, 0]\n",
      "[0, 0]\n",
      "[0, 0]\n",
      "[0, 0]\n",
      "[0, 0]\n",
      "[0, 0]\n"
     ]
    },
    {
     "data": {
      "text/html": [
       "<div>\n",
       "<style>\n",
       "    .dataframe thead tr:only-child th {\n",
       "        text-align: right;\n",
       "    }\n",
       "\n",
       "    .dataframe thead th {\n",
       "        text-align: left;\n",
       "    }\n",
       "\n",
       "    .dataframe tbody tr th {\n",
       "        vertical-align: top;\n",
       "    }\n",
       "</style>\n",
       "<table border=\"1\" class=\"dataframe\">\n",
       "  <thead>\n",
       "    <tr style=\"text-align: right;\">\n",
       "      <th></th>\n",
       "      <th>교과번호-분반</th>\n",
       "      <th>학점</th>\n",
       "      <th>강의</th>\n",
       "      <th>실습</th>\n",
       "      <th>교과목명</th>\n",
       "      <th>구분</th>\n",
       "      <th>수강정원</th>\n",
       "      <th>강의시간(요일,교시)</th>\n",
       "      <th>강의실</th>\n",
       "      <th>개설대학</th>\n",
       "      <th>개설\n",
       "학과</th>\n",
       "      <th>개설\n",
       "전공</th>\n",
       "      <th>담당교수</th>\n",
       "      <th>팀티칭\n",
       "여부</th>\n",
       "      <th>스마트러닝\n",
       "강좌 여부</th>\n",
       "      <th>직급</th>\n",
       "      <th>교수소속\n",
       "대학</th>\n",
       "      <th>교수소속\n",
       "학과</th>\n",
       "      <th>강의\n",
       "언어</th>\n",
       "      <th>교과목명\n",
       "(영문)</th>\n",
       "      <th>학년</th>\n",
       "      <th>비고</th>\n",
       "      <th>수용정원</th>\n",
       "      <th>실시간정원</th>\n",
       "    </tr>\n",
       "  </thead>\n",
       "  <tbody>\n",
       "    <tr>\n",
       "      <th>466</th>\n",
       "      <td>CLTR211001</td>\n",
       "      <td>3.0</td>\n",
       "      <td>3</td>\n",
       "      <td></td>\n",
       "      <td>수학 I</td>\n",
       "      <td>교양</td>\n",
       "      <td>NaN</td>\n",
       "      <td>수1A,1B,2A 금2B,3A,3B</td>\n",
       "      <td>자연과학대학-318</td>\n",
       "      <td>자연과학대학 수학과</td>\n",
       "      <td>NaN</td>\n",
       "      <td>NaN</td>\n",
       "      <td>임정욱</td>\n",
       "      <td>NaN</td>\n",
       "      <td>NaN</td>\n",
       "      <td>NaN</td>\n",
       "      <td>NaN</td>\n",
       "      <td>NaN</td>\n",
       "      <td>NaN</td>\n",
       "      <td>NaN</td>\n",
       "      <td>*</td>\n",
       "      <td>전학년</td>\n",
       "      <td>0</td>\n",
       "      <td>0</td>\n",
       "    </tr>\n",
       "    <tr>\n",
       "      <th>548</th>\n",
       "      <td>CLTR211002</td>\n",
       "      <td>3.0</td>\n",
       "      <td>3</td>\n",
       "      <td></td>\n",
       "      <td>수학 I</td>\n",
       "      <td>교양</td>\n",
       "      <td>NaN</td>\n",
       "      <td>화7A,7B,8A 목7A,7B,8A</td>\n",
       "      <td>자연과학대학-B05</td>\n",
       "      <td>자연과학대학 생명과학부 생물학전공</td>\n",
       "      <td>NaN</td>\n",
       "      <td>NaN</td>\n",
       "      <td>이인숙</td>\n",
       "      <td>NaN</td>\n",
       "      <td>NaN</td>\n",
       "      <td>NaN</td>\n",
       "      <td>NaN</td>\n",
       "      <td>NaN</td>\n",
       "      <td>NaN</td>\n",
       "      <td>NaN</td>\n",
       "      <td>1</td>\n",
       "      <td></td>\n",
       "      <td>65</td>\n",
       "      <td>57</td>\n",
       "    </tr>\n",
       "    <tr>\n",
       "      <th>1433</th>\n",
       "      <td>CLTR211003</td>\n",
       "      <td>3.0</td>\n",
       "      <td>3</td>\n",
       "      <td></td>\n",
       "      <td>수학 I</td>\n",
       "      <td>교양</td>\n",
       "      <td>NaN</td>\n",
       "      <td>월2B,3A,3B 금1A,1B,2A</td>\n",
       "      <td>복현회관-201</td>\n",
       "      <td>농업생명과학대학 응용생명과학부</td>\n",
       "      <td>NaN</td>\n",
       "      <td>NaN</td>\n",
       "      <td></td>\n",
       "      <td>NaN</td>\n",
       "      <td>NaN</td>\n",
       "      <td>NaN</td>\n",
       "      <td>NaN</td>\n",
       "      <td>NaN</td>\n",
       "      <td>NaN</td>\n",
       "      <td>NaN</td>\n",
       "      <td>1</td>\n",
       "      <td>신규 강사 담당 예정</td>\n",
       "      <td>65</td>\n",
       "      <td>53</td>\n",
       "    </tr>\n",
       "    <tr>\n",
       "      <th>1434</th>\n",
       "      <td>CLTR211004</td>\n",
       "      <td>3.0</td>\n",
       "      <td>3</td>\n",
       "      <td></td>\n",
       "      <td>수학 I</td>\n",
       "      <td>교양</td>\n",
       "      <td>NaN</td>\n",
       "      <td>월2B,3A,3B 금1A,1B,2A</td>\n",
       "      <td>복현회관-301</td>\n",
       "      <td>농업생명과학대학 응용생명과학부</td>\n",
       "      <td>NaN</td>\n",
       "      <td>NaN</td>\n",
       "      <td></td>\n",
       "      <td>NaN</td>\n",
       "      <td>NaN</td>\n",
       "      <td>NaN</td>\n",
       "      <td>NaN</td>\n",
       "      <td>NaN</td>\n",
       "      <td>NaN</td>\n",
       "      <td>NaN</td>\n",
       "      <td>1</td>\n",
       "      <td>신규 강사 담당 예정</td>\n",
       "      <td>65</td>\n",
       "      <td>55</td>\n",
       "    </tr>\n",
       "    <tr>\n",
       "      <th>1511</th>\n",
       "      <td>CLTR211005</td>\n",
       "      <td>3.0</td>\n",
       "      <td>3</td>\n",
       "      <td></td>\n",
       "      <td>수학 I</td>\n",
       "      <td>교양</td>\n",
       "      <td>NaN</td>\n",
       "      <td>화1A,1B,2A 목2B,3A,3B</td>\n",
       "      <td>농대3호관-522</td>\n",
       "      <td>농업생명과학대학 식품공학부</td>\n",
       "      <td>NaN</td>\n",
       "      <td>NaN</td>\n",
       "      <td>이인숙</td>\n",
       "      <td>NaN</td>\n",
       "      <td>NaN</td>\n",
       "      <td>NaN</td>\n",
       "      <td>NaN</td>\n",
       "      <td>NaN</td>\n",
       "      <td>NaN</td>\n",
       "      <td>NaN</td>\n",
       "      <td>1</td>\n",
       "      <td></td>\n",
       "      <td>0</td>\n",
       "      <td>0</td>\n",
       "    </tr>\n",
       "    <tr>\n",
       "      <th>1512</th>\n",
       "      <td>CLTR211006</td>\n",
       "      <td>3.0</td>\n",
       "      <td>3</td>\n",
       "      <td></td>\n",
       "      <td>수학 I</td>\n",
       "      <td>교양</td>\n",
       "      <td>NaN</td>\n",
       "      <td>화1A,1B,2A 목2B,3A,3B</td>\n",
       "      <td>복현회관-301</td>\n",
       "      <td>농업생명과학대학 식품공학부</td>\n",
       "      <td>NaN</td>\n",
       "      <td>NaN</td>\n",
       "      <td>최선미</td>\n",
       "      <td>NaN</td>\n",
       "      <td>NaN</td>\n",
       "      <td>NaN</td>\n",
       "      <td>NaN</td>\n",
       "      <td>NaN</td>\n",
       "      <td>NaN</td>\n",
       "      <td>NaN</td>\n",
       "      <td>1</td>\n",
       "      <td></td>\n",
       "      <td>0</td>\n",
       "      <td>0</td>\n",
       "    </tr>\n",
       "    <tr>\n",
       "      <th>1611</th>\n",
       "      <td>CLTR211007</td>\n",
       "      <td>3.0</td>\n",
       "      <td>3</td>\n",
       "      <td></td>\n",
       "      <td>수학 I</td>\n",
       "      <td>교양</td>\n",
       "      <td>NaN</td>\n",
       "      <td>월1A,1B,2A 수2B,3A,3B</td>\n",
       "      <td>복현회관-201</td>\n",
       "      <td>농업생명과학대학 산림과학.조경학부</td>\n",
       "      <td>NaN</td>\n",
       "      <td>NaN</td>\n",
       "      <td>최선미</td>\n",
       "      <td>NaN</td>\n",
       "      <td>NaN</td>\n",
       "      <td>NaN</td>\n",
       "      <td>NaN</td>\n",
       "      <td>NaN</td>\n",
       "      <td>NaN</td>\n",
       "      <td>NaN</td>\n",
       "      <td>1</td>\n",
       "      <td></td>\n",
       "      <td>0</td>\n",
       "      <td>0</td>\n",
       "    </tr>\n",
       "    <tr>\n",
       "      <th>2817</th>\n",
       "      <td>CLTR211008</td>\n",
       "      <td>3.0</td>\n",
       "      <td>3</td>\n",
       "      <td></td>\n",
       "      <td>수학 I</td>\n",
       "      <td>교양</td>\n",
       "      <td>NaN</td>\n",
       "      <td>수8B,9A,9B</td>\n",
       "      <td>생활과학대학-403</td>\n",
       "      <td>생활과학대학 식품영양학과</td>\n",
       "      <td>NaN</td>\n",
       "      <td>NaN</td>\n",
       "      <td></td>\n",
       "      <td>NaN</td>\n",
       "      <td>NaN</td>\n",
       "      <td>NaN</td>\n",
       "      <td>NaN</td>\n",
       "      <td>NaN</td>\n",
       "      <td>NaN</td>\n",
       "      <td>NaN</td>\n",
       "      <td>1</td>\n",
       "      <td>신규 강사 담당 예정</td>\n",
       "      <td>0</td>\n",
       "      <td>0</td>\n",
       "    </tr>\n",
       "    <tr>\n",
       "      <th>3958</th>\n",
       "      <td>CLTR211009</td>\n",
       "      <td>3.0</td>\n",
       "      <td>3</td>\n",
       "      <td></td>\n",
       "      <td>수학 I</td>\n",
       "      <td>교양</td>\n",
       "      <td>NaN</td>\n",
       "      <td>월5B,6A,6B 금5B,6A,6B</td>\n",
       "      <td>상주캠퍼스 제9호관-101</td>\n",
       "      <td>과학기술대학 건설방재공학부</td>\n",
       "      <td>NaN</td>\n",
       "      <td>NaN</td>\n",
       "      <td></td>\n",
       "      <td>NaN</td>\n",
       "      <td>NaN</td>\n",
       "      <td>NaN</td>\n",
       "      <td>NaN</td>\n",
       "      <td>NaN</td>\n",
       "      <td>NaN</td>\n",
       "      <td>NaN</td>\n",
       "      <td>1</td>\n",
       "      <td>신규 강사 담당 예정</td>\n",
       "      <td>0</td>\n",
       "      <td>0</td>\n",
       "    </tr>\n",
       "    <tr>\n",
       "      <th>3959</th>\n",
       "      <td>CLTR211010</td>\n",
       "      <td>3.0</td>\n",
       "      <td>3</td>\n",
       "      <td></td>\n",
       "      <td>수학 I</td>\n",
       "      <td>교양</td>\n",
       "      <td>NaN</td>\n",
       "      <td>월7A,7B,8A 금7A,7B,8A</td>\n",
       "      <td>상주캠퍼스 제9호관-101</td>\n",
       "      <td>과학기술대학 건설방재공학부</td>\n",
       "      <td>NaN</td>\n",
       "      <td>NaN</td>\n",
       "      <td></td>\n",
       "      <td>NaN</td>\n",
       "      <td>NaN</td>\n",
       "      <td>NaN</td>\n",
       "      <td>NaN</td>\n",
       "      <td>NaN</td>\n",
       "      <td>NaN</td>\n",
       "      <td>NaN</td>\n",
       "      <td>1</td>\n",
       "      <td>신규 강사 담당 예정</td>\n",
       "      <td>0</td>\n",
       "      <td>0</td>\n",
       "    </tr>\n",
       "    <tr>\n",
       "      <th>4075</th>\n",
       "      <td>CLTR211011</td>\n",
       "      <td>3.0</td>\n",
       "      <td>3</td>\n",
       "      <td></td>\n",
       "      <td>수학 I</td>\n",
       "      <td>교양</td>\n",
       "      <td>NaN</td>\n",
       "      <td>화5B,6A,6B 목5B,6A,6B</td>\n",
       "      <td>상주캠퍼스 제9호관-101</td>\n",
       "      <td>과학기술대학 나노소재공학부</td>\n",
       "      <td>NaN</td>\n",
       "      <td>NaN</td>\n",
       "      <td>곽동제</td>\n",
       "      <td>NaN</td>\n",
       "      <td>NaN</td>\n",
       "      <td>NaN</td>\n",
       "      <td>NaN</td>\n",
       "      <td>NaN</td>\n",
       "      <td>NaN</td>\n",
       "      <td>NaN</td>\n",
       "      <td>1</td>\n",
       "      <td></td>\n",
       "      <td>0</td>\n",
       "      <td>0</td>\n",
       "    </tr>\n",
       "    <tr>\n",
       "      <th>4076</th>\n",
       "      <td>CLTR211012</td>\n",
       "      <td>3.0</td>\n",
       "      <td>3</td>\n",
       "      <td></td>\n",
       "      <td>수학 I</td>\n",
       "      <td>교양</td>\n",
       "      <td>NaN</td>\n",
       "      <td>화7A,7B,8A 목7A,7B,8A</td>\n",
       "      <td>상주캠퍼스 제9호관-101</td>\n",
       "      <td>과학기술대학 나노소재공학부</td>\n",
       "      <td>NaN</td>\n",
       "      <td>NaN</td>\n",
       "      <td>곽동제</td>\n",
       "      <td>NaN</td>\n",
       "      <td>NaN</td>\n",
       "      <td>NaN</td>\n",
       "      <td>NaN</td>\n",
       "      <td>NaN</td>\n",
       "      <td>NaN</td>\n",
       "      <td>NaN</td>\n",
       "      <td>1</td>\n",
       "      <td></td>\n",
       "      <td>0</td>\n",
       "      <td>0</td>\n",
       "    </tr>\n",
       "    <tr>\n",
       "      <th>4146</th>\n",
       "      <td>CLTR211013</td>\n",
       "      <td>3.0</td>\n",
       "      <td>3</td>\n",
       "      <td></td>\n",
       "      <td>수학 I</td>\n",
       "      <td>교양</td>\n",
       "      <td>NaN</td>\n",
       "      <td>화8B,9A,9B 목8B,9A,9B</td>\n",
       "      <td>상주캠퍼스 제9호관-101</td>\n",
       "      <td>과학기술대학 섬유패션디자인학부 섬유공학전공</td>\n",
       "      <td>NaN</td>\n",
       "      <td>NaN</td>\n",
       "      <td>곽동제</td>\n",
       "      <td>NaN</td>\n",
       "      <td>NaN</td>\n",
       "      <td>NaN</td>\n",
       "      <td>NaN</td>\n",
       "      <td>NaN</td>\n",
       "      <td>NaN</td>\n",
       "      <td>NaN</td>\n",
       "      <td>1</td>\n",
       "      <td></td>\n",
       "      <td>0</td>\n",
       "      <td>0</td>\n",
       "    </tr>\n",
       "  </tbody>\n",
       "</table>\n",
       "</div>"
      ],
      "text/plain": [
       "         교과번호-분반   학점 강의 실습  교과목명  구분  수강정원          강의시간(요일,교시)  \\\n",
       "466   CLTR211001  3.0  3     수학 I  교양   NaN  수1A,1B,2A 금2B,3A,3B   \n",
       "548   CLTR211002  3.0  3     수학 I  교양   NaN  화7A,7B,8A 목7A,7B,8A   \n",
       "1433  CLTR211003  3.0  3     수학 I  교양   NaN  월2B,3A,3B 금1A,1B,2A   \n",
       "1434  CLTR211004  3.0  3     수학 I  교양   NaN  월2B,3A,3B 금1A,1B,2A   \n",
       "1511  CLTR211005  3.0  3     수학 I  교양   NaN  화1A,1B,2A 목2B,3A,3B   \n",
       "1512  CLTR211006  3.0  3     수학 I  교양   NaN  화1A,1B,2A 목2B,3A,3B   \n",
       "1611  CLTR211007  3.0  3     수학 I  교양   NaN  월1A,1B,2A 수2B,3A,3B   \n",
       "2817  CLTR211008  3.0  3     수학 I  교양   NaN            수8B,9A,9B   \n",
       "3958  CLTR211009  3.0  3     수학 I  교양   NaN  월5B,6A,6B 금5B,6A,6B   \n",
       "3959  CLTR211010  3.0  3     수학 I  교양   NaN  월7A,7B,8A 금7A,7B,8A   \n",
       "4075  CLTR211011  3.0  3     수학 I  교양   NaN  화5B,6A,6B 목5B,6A,6B   \n",
       "4076  CLTR211012  3.0  3     수학 I  교양   NaN  화7A,7B,8A 목7A,7B,8A   \n",
       "4146  CLTR211013  3.0  3     수학 I  교양   NaN  화8B,9A,9B 목8B,9A,9B   \n",
       "\n",
       "                 강의실                     개설대학  개설\\n학과  개설\\n전공 담당교수  팀티칭\\n여부  \\\n",
       "466       자연과학대학-318               자연과학대학 수학과     NaN     NaN  임정욱      NaN   \n",
       "548       자연과학대학-B05       자연과학대학 생명과학부 생물학전공     NaN     NaN  이인숙      NaN   \n",
       "1433        복현회관-201         농업생명과학대학 응용생명과학부     NaN     NaN           NaN   \n",
       "1434        복현회관-301         농업생명과학대학 응용생명과학부     NaN     NaN           NaN   \n",
       "1511       농대3호관-522           농업생명과학대학 식품공학부     NaN     NaN  이인숙      NaN   \n",
       "1512        복현회관-301           농업생명과학대학 식품공학부     NaN     NaN  최선미      NaN   \n",
       "1611        복현회관-201       농업생명과학대학 산림과학.조경학부     NaN     NaN  최선미      NaN   \n",
       "2817      생활과학대학-403            생활과학대학 식품영양학과     NaN     NaN           NaN   \n",
       "3958  상주캠퍼스 제9호관-101           과학기술대학 건설방재공학부     NaN     NaN           NaN   \n",
       "3959  상주캠퍼스 제9호관-101           과학기술대학 건설방재공학부     NaN     NaN           NaN   \n",
       "4075  상주캠퍼스 제9호관-101           과학기술대학 나노소재공학부     NaN     NaN  곽동제      NaN   \n",
       "4076  상주캠퍼스 제9호관-101           과학기술대학 나노소재공학부     NaN     NaN  곽동제      NaN   \n",
       "4146  상주캠퍼스 제9호관-101  과학기술대학 섬유패션디자인학부 섬유공학전공     NaN     NaN  곽동제      NaN   \n",
       "\n",
       "      스마트러닝\\n강좌 여부  직급  교수소속\\n대학  교수소속\\n학과  강의\\n언어  교과목명\\n(영문) 학년  \\\n",
       "466            NaN NaN       NaN       NaN     NaN         NaN  *   \n",
       "548            NaN NaN       NaN       NaN     NaN         NaN  1   \n",
       "1433           NaN NaN       NaN       NaN     NaN         NaN  1   \n",
       "1434           NaN NaN       NaN       NaN     NaN         NaN  1   \n",
       "1511           NaN NaN       NaN       NaN     NaN         NaN  1   \n",
       "1512           NaN NaN       NaN       NaN     NaN         NaN  1   \n",
       "1611           NaN NaN       NaN       NaN     NaN         NaN  1   \n",
       "2817           NaN NaN       NaN       NaN     NaN         NaN  1   \n",
       "3958           NaN NaN       NaN       NaN     NaN         NaN  1   \n",
       "3959           NaN NaN       NaN       NaN     NaN         NaN  1   \n",
       "4075           NaN NaN       NaN       NaN     NaN         NaN  1   \n",
       "4076           NaN NaN       NaN       NaN     NaN         NaN  1   \n",
       "4146           NaN NaN       NaN       NaN     NaN         NaN  1   \n",
       "\n",
       "               비고 수용정원 실시간정원  \n",
       "466           전학년    0     0  \n",
       "548                 65    57  \n",
       "1433  신규 강사 담당 예정   65    53  \n",
       "1434  신규 강사 담당 예정   65    55  \n",
       "1511                 0     0  \n",
       "1512                 0     0  \n",
       "1611                 0     0  \n",
       "2817  신규 강사 담당 예정    0     0  \n",
       "3958  신규 강사 담당 예정    0     0  \n",
       "3959  신규 강사 담당 예정    0     0  \n",
       "4075                 0     0  \n",
       "4076                 0     0  \n",
       "4146                 0     0  "
      ]
     },
     "execution_count": 294,
     "metadata": {},
     "output_type": "execute_result"
    }
   ],
   "source": [
    "#Get_same_lec(code,ex_df) #ex_df는 데이터프레임. 정규학기 디비에 대해서 하는 것 "
   ]
  },
  {
   "cell_type": "code",
   "execution_count": 337,
   "metadata": {
    "collapsed": true
   },
   "outputs": [
    {
     "name": "stderr",
     "output_type": "stream",
     "text": [
      "C:\\Users\\nnqkf\\Anaconda3\\lib\\site-packages\\pandas\\core\\indexing.py:337: SettingWithCopyWarning: \n",
      "A value is trying to be set on a copy of a slice from a DataFrame.\n",
      "Try using .loc[row_indexer,col_indexer] = value instead\n",
      "\n",
      "See the caveats in the documentation: http://pandas.pydata.org/pandas-docs/stable/indexing.html#indexing-view-versus-copy\n",
      "  self.obj[key] = _infer_fill_value(value)\n",
      "C:\\Users\\nnqkf\\Anaconda3\\lib\\site-packages\\pandas\\core\\indexing.py:517: SettingWithCopyWarning: \n",
      "A value is trying to be set on a copy of a slice from a DataFrame.\n",
      "Try using .loc[row_indexer,col_indexer] = value instead\n",
      "\n",
      "See the caveats in the documentation: http://pandas.pydata.org/pandas-docs/stable/indexing.html#indexing-view-versus-copy\n",
      "  self.obj[item] = s\n"
     ]
    },
    {
     "name": "stdout",
     "output_type": "stream",
     "text": [
      "[0, 0]\n",
      "[65, 57]\n",
      "[65, 53]\n",
      "[65, 55]\n"
     ]
    }
   ],
   "source": [
    "test1 = Get_same_lec(code,sw_df) #계절학기 디비에 대해 하는 것 "
   ]
  },
  {
   "cell_type": "code",
   "execution_count": 338,
   "metadata": {
    "collapsed": true
   },
   "outputs": [],
   "source": [
    "#Get_same_time(code,ex_df) 정규학기 디비에 대해 하는 것 "
   ]
  },
  {
   "cell_type": "code",
   "execution_count": 339,
   "metadata": {
    "collapsed": true
   },
   "outputs": [
    {
     "name": "stdout",
     "output_type": "stream",
     "text": [
      "[50, 43]\n",
      "[100, 30]\n"
     ]
    },
    {
     "name": "stderr",
     "output_type": "stream",
     "text": [
      "C:\\Users\\nnqkf\\Anaconda3\\lib\\site-packages\\pandas\\core\\indexing.py:337: SettingWithCopyWarning: \n",
      "A value is trying to be set on a copy of a slice from a DataFrame.\n",
      "Try using .loc[row_indexer,col_indexer] = value instead\n",
      "\n",
      "See the caveats in the documentation: http://pandas.pydata.org/pandas-docs/stable/indexing.html#indexing-view-versus-copy\n",
      "  self.obj[key] = _infer_fill_value(value)\n",
      "C:\\Users\\nnqkf\\Anaconda3\\lib\\site-packages\\pandas\\core\\indexing.py:517: SettingWithCopyWarning: \n",
      "A value is trying to be set on a copy of a slice from a DataFrame.\n",
      "Try using .loc[row_indexer,col_indexer] = value instead\n",
      "\n",
      "See the caveats in the documentation: http://pandas.pydata.org/pandas-docs/stable/indexing.html#indexing-view-versus-copy\n",
      "  self.obj[item] = s\n"
     ]
    },
    {
     "name": "stdout",
     "output_type": "stream",
     "text": [
      "[70, 23]\n",
      "[55, 30]\n",
      "[120, 96]\n",
      "[120, 85]\n",
      "[130, 32]\n",
      "[120, 93]\n",
      "[140, 111]\n",
      "[80, 77]\n",
      "[120, 56]\n",
      "[70, 68]\n",
      "[0, 0]\n",
      "[70, 46]\n",
      "[30, 31]\n",
      "[0, 0]\n",
      "[65, 57]\n",
      "[65, 33]\n",
      "[130, 70]\n",
      "[120, 92]\n",
      "[80, 50]\n",
      "[70, 64]\n",
      "[450, 350]\n",
      "[70, 55]\n",
      "[80, 32]\n",
      "[0, 0]\n",
      "[90, 84]\n",
      "[90, 52]\n",
      "[300, 67]\n",
      "[45, 42]\n",
      "[90, 41]\n",
      "[200, 59]\n",
      "[80, 80]\n",
      "[100, 29]\n",
      "[90, 72]\n",
      "[90, 82]\n",
      "[70, 36]\n",
      "[110, 101]\n",
      "[90, 63]\n",
      "[140, 122]\n",
      "[0, 0]\n"
     ]
    }
   ],
   "source": [
    "test = Get_same_time(code,sw_df) #계절학기 디비에 대해 하는 것 "
   ]
  },
  {
   "cell_type": "code",
   "execution_count": 345,
   "metadata": {},
   "outputs": [],
   "source": [
    "test = test.applymap(str)\n",
    "test1 = test1.applymap(str)"
   ]
  },
  {
   "cell_type": "code",
   "execution_count": null,
   "metadata": {
    "collapsed": true
   },
   "outputs": [],
   "source": []
  },
  {
   "cell_type": "code",
   "execution_count": null,
   "metadata": {
    "collapsed": true
   },
   "outputs": [],
   "source": []
  },
  {
   "cell_type": "code",
   "execution_count": null,
   "metadata": {
    "collapsed": true
   },
   "outputs": [],
   "source": []
  },
  {
   "cell_type": "code",
   "execution_count": null,
   "metadata": {
    "collapsed": true
   },
   "outputs": [],
   "source": []
  },
  {
   "cell_type": "code",
   "execution_count": null,
   "metadata": {
    "collapsed": true
   },
   "outputs": [],
   "source": []
  },
  {
   "cell_type": "code",
   "execution_count": null,
   "metadata": {
    "collapsed": true
   },
   "outputs": [],
   "source": []
  },
  {
   "cell_type": "code",
   "execution_count": null,
   "metadata": {
    "collapsed": true
   },
   "outputs": [],
   "source": []
  },
  {
   "cell_type": "code",
   "execution_count": null,
   "metadata": {
    "collapsed": true
   },
   "outputs": [],
   "source": []
  },
  {
   "cell_type": "code",
   "execution_count": 352,
   "metadata": {
    "scrolled": true
   },
   "outputs": [],
   "source": [
    "text_file = open(r\"D:\\해달\\index.html\", \"w\", encoding ='utf-8')\n",
    "text_file.write(test.to_html())\n",
    "text_file.close()"
   ]
  },
  {
   "cell_type": "code",
   "execution_count": 353,
   "metadata": {
    "collapsed": true
   },
   "outputs": [],
   "source": [
    "text_file = open(r\"D:\\해달\\index2.html\", \"w\",encoding ='utf-8')\n",
    "text_file.write(test1.to_html())\n",
    "text_file.close()"
   ]
  },
  {
   "cell_type": "code",
   "execution_count": null,
   "metadata": {
    "collapsed": true
   },
   "outputs": [],
   "source": []
  },
  {
   "cell_type": "code",
   "execution_count": null,
   "metadata": {
    "collapsed": true
   },
   "outputs": [],
   "source": []
  },
  {
   "cell_type": "code",
   "execution_count": null,
   "metadata": {
    "collapsed": true
   },
   "outputs": [],
   "source": []
  },
  {
   "cell_type": "code",
   "execution_count": null,
   "metadata": {
    "collapsed": true
   },
   "outputs": [],
   "source": []
  },
  {
   "cell_type": "code",
   "execution_count": null,
   "metadata": {
    "collapsed": true
   },
   "outputs": [],
   "source": []
  },
  {
   "cell_type": "code",
   "execution_count": null,
   "metadata": {
    "collapsed": true
   },
   "outputs": [],
   "source": []
  },
  {
   "cell_type": "code",
   "execution_count": null,
   "metadata": {
    "collapsed": true
   },
   "outputs": [],
   "source": []
  },
  {
   "cell_type": "code",
   "execution_count": null,
   "metadata": {
    "collapsed": true
   },
   "outputs": [],
   "source": [
    "#휴지통 "
   ]
  },
  {
   "cell_type": "code",
   "execution_count": null,
   "metadata": {
    "collapsed": true
   },
   "outputs": [],
   "source": [
    "#df['C'] = df.apply(lambda row: row['A'] + row['B'], axis=1)"
   ]
  },
  {
   "cell_type": "code",
   "execution_count": null,
   "metadata": {
    "collapsed": true
   },
   "outputs": [],
   "source": [
    "for rowidx in range(sheet.nrows):\n",
    "    row = sheet.row(rowidx)\n",
    "    if row[5]\n",
    "        #for colidx, cell in enumerate(row):\n",
    "            #if cell.value == \"particularString\" :\n",
    "             #   print sheet.name\n",
    "              #  print colidx\n",
    "               # print rowidx"
   ]
  },
  {
   "cell_type": "code",
   "execution_count": null,
   "metadata": {
    "collapsed": true
   },
   "outputs": [],
   "source": [
    "db_Link = r\"D:\\5\\5_renew2\\youtubenews\\0youtube_news.db\" \n",
    "conn = sqlite3.connect(db_Link)  \n",
    "cur = conn.cursor()  \n",
    "vi_count = pd.read_sql_query(\"select * from vi_count\", conn)\n",
    "conn.close()\n",
    "\n",
    "conn = sqlite3.connect(db_Link)  \n",
    "cur = conn.cursor()  \n",
    "vi_feature = pd.read_sql_query(\"select * from vi_feature\", conn)\n",
    "conn.close()\n",
    "\n",
    "conn = sqlite3.connect(db_Link)  \n",
    "cur = conn.cursor()  \n",
    "ch_count = pd.read_sql_query(\"select * from ch_count\", conn)\n",
    "conn.close()\n",
    "\n",
    "conn = sqlite3.connect(db_Link)  \n",
    "cur = conn.cursor()  \n",
    "ch_feature = pd.read_sql_query(\"select * from ch_feature\", conn)\n",
    "conn.close()"
   ]
  }
 ],
 "metadata": {
  "kernelspec": {
   "display_name": "Python 3",
   "language": "python",
   "name": "python3"
  },
  "language_info": {
   "codemirror_mode": {
    "name": "ipython",
    "version": 3
   },
   "file_extension": ".py",
   "mimetype": "text/x-python",
   "name": "python",
   "nbconvert_exporter": "python",
   "pygments_lexer": "ipython3",
   "version": "3.6.3"
  }
 },
 "nbformat": 4,
 "nbformat_minor": 2
}
